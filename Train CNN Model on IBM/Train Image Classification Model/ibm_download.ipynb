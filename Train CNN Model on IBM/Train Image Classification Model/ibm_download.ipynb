{
  "cells": [
    {
      "cell_type": "code",
      "execution_count": null,
      "metadata": {
        "id": "I9lNv9rY-c7Z"
      },
      "outputs": [],
      "source": [
        "from ibm_watson_machine_learning import APIClient\n",
        "import tarfile\n",
        "\n",
        "web_cred={\n",
        "    \"apikey\": \"k5dhyLxzvxOg0E6KPDSTLtIQgenUGD3loujiRCWrBErK\",\n",
        "\t\"url\": \"https://eu-gb.ml.cloud.ibm.com\"\n",
        "}\n",
        "\n",
        "client=APIClient(web_cred)"
      ]
    },
    {
      "cell_type": "code",
      "execution_count": null,
      "metadata": {
        "id": "vKfENz-K-c7f",
        "outputId": "d0dbdca4-fe17-481f-d364-e9ab79de1303"
      },
      "outputs": [
        {
          "data": {
            "text/plain": [
              "'SUCCESS'"
            ]
          },
          "execution_count": 2,
          "metadata": {},
          "output_type": "execute_result"
        }
      ],
      "source": [
        "spaceID=\"e4ef5efc-e11a-41cc-9c1e-b45c6a510aeb\"\n",
        "client.set.default_space(spaceID)"
      ]
    },
    {
      "cell_type": "code",
      "execution_count": null,
      "metadata": {
        "id": "H04rhsxk-c7j"
      },
      "outputs": [],
      "source": [
        "model_id=\"e85e52c1-6ab2-4fa5-a56e-5610b7368292\""
      ]
    },
    {
      "cell_type": "code",
      "execution_count": null,
      "metadata": {
        "id": "8TOyhoY6-c7k",
        "outputId": "a67d0622-5b1d-4030-a1ed-5da6695abe31"
      },
      "outputs": [
        {
          "name": "stdout",
          "output_type": "stream",
          "text": [
            "Successfully saved model content to file: 'Model/sign.tgz'\n"
          ]
        },
        {
          "data": {
            "text/plain": [
              "'c:\\\\Users\\\\Deva\\\\Documents\\\\PROGRAMMING\\\\Project/Model/sign.tgz'"
            ]
          },
          "execution_count": 4,
          "metadata": {},
          "output_type": "execute_result"
        }
      ],
      "source": [
        "client.repository.download(model_id,'Model/sign.tgz')"
      ]
    },
    {
      "cell_type": "code",
      "execution_count": null,
      "metadata": {
        "id": "82fuMi5K-c7l",
        "outputId": "e5f2563e-970d-4895-c055-ed877cb8e89e"
      },
      "outputs": [
        {
          "name": "stderr",
          "output_type": "stream",
          "text": [
            "x keras_model.h5\n"
          ]
        }
      ],
      "source": [
        "!tar xvf Model/sign.tgz --directory \"/Users/Deva/Documents/PROGRAMMING/Project/Model/\"\n"
      ]
    }
  ],
  "metadata": {
    "kernelspec": {
      "display_name": "Python 3.10.5 ('Project': venv)",
      "language": "python",
      "name": "python3"
    },
    "language_info": {
      "codemirror_mode": {
        "name": "ipython",
        "version": 3
      },
      "file_extension": ".py",
      "mimetype": "text/x-python",
      "name": "python",
      "nbconvert_exporter": "python",
      "pygments_lexer": "ipython3",
      "version": "3.10.5"
    },
    "orig_nbformat": 4,
    "vscode": {
      "interpreter": {
        "hash": "ba9773247cf08eab2a360d6a9c5bab996e2576429b058b41aa3e932f7abca2d4"
      }
    },
    "colab": {
      "provenance": []
    }
  },
  "nbformat": 4,
  "nbformat_minor": 0
}