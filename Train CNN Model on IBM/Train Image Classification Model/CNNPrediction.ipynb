{
  "cells": [
    {
      "cell_type": "markdown",
      "id": "caeb5126",
      "metadata": {
        "id": "caeb5126"
      },
      "source": [
        "# CNN Prediction for Real Time Communication through AI for Specially Abled\n"
      ]
    },
    {
      "cell_type": "markdown",
      "metadata": {
        "id": "9707cca5-f4ed-4d07-b7b5-789275c2515b"
      },
      "source": [
        "Testing the model"
      ],
      "id": "9707cca5-f4ed-4d07-b7b5-789275c2515b"
    },
    {
      "cell_type": "code",
      "execution_count": null,
      "metadata": {
        "id": "6419505e-2ef1-4196-b1d0-3777feef99b0"
      },
      "outputs": [],
      "source": [
        "import numpy as np\n",
        "from tensorflow.keras.models import load_model\n",
        "from tensorflow.keras.preprocessing import image"
      ],
      "id": "6419505e-2ef1-4196-b1d0-3777feef99b0"
    },
    {
      "cell_type": "code",
      "execution_count": null,
      "metadata": {
        "id": "da596de4-5e51-468e-a62d-64f257d61774"
      },
      "outputs": [],
      "source": [
        "model=load_model('aslpng1.h5')\n",
        "img=image.load_img(r'/content/Dataset/test_set/A/28.png',\n",
        "                   target_size=(64,64))"
      ],
      "id": "da596de4-5e51-468e-a62d-64f257d61774"
    },
    {
      "cell_type": "code",
      "execution_count": null,
      "metadata": {
        "id": "5d4f0e95-100d-46cf-ac69-8f115d2e55c0",
        "outputId": "a7bf4092-08b4-46b5-e827-3eba259e4ecf",
        "colab": {
          "base_uri": "https://localhost:8080/",
          "height": 81
        }
      },
      "outputs": [
        {
          "output_type": "execute_result",
          "data": {
            "text/plain": [
              "<PIL.Image.Image image mode=RGB size=64x64 at 0x7F66434D4D90>"
            ],
            "image/png": "[encoded data removed]"
          },
          "metadata": {},
          "execution_count": 36
        }
      ],
      "source": [
        "img"
      ],
      "id": "5d4f0e95-100d-46cf-ac69-8f115d2e55c0"
    },
    {
      "cell_type": "code",
      "execution_count": null,
      "metadata": {
        "id": "9e33e578-b1ed-4794-b51e-bc5ddb0d4ba3"
      },
      "outputs": [],
      "source": [
        "x=image.img_to_array(img)"
      ],
      "id": "9e33e578-b1ed-4794-b51e-bc5ddb0d4ba3"
    },
    {
      "cell_type": "code",
      "execution_count": null,
      "metadata": {
        "id": "32925a8a-decf-45f1-bd84-6485ac49debf",
        "outputId": "92c3dc60-f090-4ed8-ac12-83f1637ac376",
        "colab": {
          "base_uri": "https://localhost:8080/"
        }
      },
      "outputs": [
        {
          "output_type": "execute_result",
          "data": {
            "text/plain": [
              "3"
            ]
          },
          "metadata": {},
          "execution_count": 38
        }
      ],
      "source": [
        "x.ndim"
      ],
      "id": "32925a8a-decf-45f1-bd84-6485ac49debf"
    },
    {
      "cell_type": "code",
      "execution_count": null,
      "metadata": {
        "id": "ddd11098-8e27-4882-9288-173b37a21692"
      },
      "outputs": [],
      "source": [
        "x=np.expand_dims(x,axis=0)"
      ],
      "id": "ddd11098-8e27-4882-9288-173b37a21692"
    },
    {
      "cell_type": "code",
      "execution_count": null,
      "metadata": {
        "id": "f5839e05-0268-4b2a-b054-7c0d5e338cd5",
        "outputId": "cc17e6a7-cac2-413e-f04d-38ac5cb14560",
        "colab": {
          "base_uri": "https://localhost:8080/"
        }
      },
      "outputs": [
        {
          "output_type": "execute_result",
          "data": {
            "text/plain": [
              "4"
            ]
          },
          "metadata": {},
          "execution_count": 40
        }
      ],
      "source": [
        "x.ndim"
      ],
      "id": "f5839e05-0268-4b2a-b054-7c0d5e338cd5"
    },
    {
      "cell_type": "code",
      "execution_count": null,
      "metadata": {
        "id": "b849024e-f2ad-462b-a5c2-5f0f4359a5c4",
        "outputId": "b840adfc-ca5a-48c8-a45b-3c8e2ecb4afc",
        "colab": {
          "base_uri": "https://localhost:8080/"
        }
      },
      "outputs": [
        {
          "output_type": "stream",
          "name": "stdout",
          "text": [
            "1/1 [==============================] - 0s 73ms/step\n"
          ]
        }
      ],
      "source": [
        "pred=np.argmax(model.predict(x),axis=1)"
      ],
      "id": "b849024e-f2ad-462b-a5c2-5f0f4359a5c4"
    },
    {
      "cell_type": "code",
      "execution_count": null,
      "metadata": {
        "id": "c9f80483-1fb4-4876-ae85-b64352991721",
        "outputId": "c3a7d138-3546-4243-f498-19418c1f7f37",
        "colab": {
          "base_uri": "https://localhost:8080/"
        }
      },
      "outputs": [
        {
          "output_type": "execute_result",
          "data": {
            "text/plain": [
              "array([0])"
            ]
          },
          "metadata": {},
          "execution_count": 42
        }
      ],
      "source": [
        "pred"
      ],
      "id": "c9f80483-1fb4-4876-ae85-b64352991721"
    },
    {
      "cell_type": "code",
      "execution_count": null,
      "metadata": {
        "id": "87b8634f-5b84-40e0-a8b6-5b2b5b3d451d",
        "outputId": "57bf2fad-2f51-446b-8757-aa2a55d64ba3",
        "colab": {
          "base_uri": "https://localhost:8080/"
        }
      },
      "outputs": [
        {
          "output_type": "stream",
          "name": "stdout",
          "text": [
            "A\n"
          ]
        }
      ],
      "source": [
        "index=['A','B','C','D','E','F','G','H','I']\n",
        "print(index[pred[0]])"
      ],
      "id": "87b8634f-5b84-40e0-a8b6-5b2b5b3d451d"
    }
  ],
  "metadata": {
    "interpreter": {
      "hash": "4f0f97fd6c5ecc85c2cf8f5e01f5fe1d66323d0c47c6f4b81bd3f87b7ad3ebb6"
    },
    "kernelspec": {
      "display_name": "Python 3.10.4 ('venv': venv)",
      "language": "python",
      "name": "python3"
    },
    "language_info": {
      "codemirror_mode": {
        "name": "ipython",
        "version": 3
      },
      "file_extension": ".py",
      "mimetype": "text/x-python",
      "name": "python",
      "nbconvert_exporter": "python",
      "pygments_lexer": "ipython3",
      "version": "3.10.4"
    },
    "colab": {
      "provenance": [],
      "collapsed_sections": []
    }
  },
  "nbformat": 4,
  "nbformat_minor": 5
}